{
 "cells": [
  {
   "cell_type": "code",
   "execution_count": 2,
   "metadata": {},
   "outputs": [
    {
     "data": {
      "application/vnd.jupyter.widget-view+json": {
       "model_id": "b813c72f156b4c48b9f6254639b17e92",
       "version_major": 2,
       "version_minor": 0
      },
      "text/plain": [
       "VBox(children=(HTML(value=\"\\n        <div style='margin-bottom: 20px;'>\\n            <h3>Step 4: Select Model …"
      ]
     },
     "metadata": {},
     "output_type": "display_data"
    }
   ],
   "source": [
    "# %% [markdown]\n",
    "# # CMIP6 Climate Analysis Tool\n",
    "# \n",
    "# Analysis tool for CMIP6 climate projections with the following workflow:\n",
    "# 1. Define area of interest\n",
    "# 2. Select analysis time periods\n",
    "# 3. Choose climate indices\n",
    "# 4. View results with different models and scenarios\n",
    "\n",
    "# %% Setup and Imports\n",
    "import ee\n",
    "from src.climate_analysis_tool import CMIP6AnalysisTool\n",
    "from IPython.display import display, HTML\n",
    "import warnings\n",
    "warnings.filterwarnings('ignore')\n",
    "\n",
    "# %% Initialize Earth Engine\n",
    "try:\n",
    "    ee.Initialize()\n",
    "except:\n",
    "    ee.Authenticate()\n",
    "    ee.Initialize()\n",
    "print(\"✓ Earth Engine initialized successfully\")\n",
    "\n",
    "# %% Create and Start Analysis Tool\n",
    "try:\n",
    "    # Create tool instance\n",
    "    tool = CMIP6AnalysisTool()\n",
    "    \n",
    "    # Start the analysis workflow\n",
    "    print(\"\\nStarting CMIP6 Analysis Tool...\")\n",
    "    print(\"Follow the interactive widgets that will appear below.\")\n",
    "    print(\"\\nWorkflow:\")\n",
    "    print(\"1. Define your area of interest\")\n",
    "    print(\"2. Select analysis time periods\")\n",
    "    print(\"3. Choose climate indices\")\n",
    "    print(\"4. Explore results with different models\")\n",
    "    \n",
    "    tool.start()\n",
    "    \n",
    "except Exception as e:\n",
    "    print(f\"Error initializing tool: {str(e)}\")\n",
    "    print(\"\\nPlease check:\")\n",
    "    print(\"- Earth Engine authentication\")\n",
    "    print(\"- Required dependencies\")\n",
    "    print(\"- Internet connection\")\n",
    "\n",
    "# %% Cleanup Resources\n",
    "# Run this cell when you're done\n",
    "if 'tool' in locals():\n",
    "    try:\n",
    "        tool.cleanup()\n",
    "        print(\"✓ Resources cleaned up successfully\")\n",
    "    except Exception as e:\n",
    "        print(f\"Error during cleanup: {str(e)}\")"
   ]
  },
  {
   "cell_type": "code",
   "execution_count": 3,
   "metadata": {},
   "outputs": [
    {
     "data": {
      "text/html": [
       "\n",
       "            <style>\n",
       "                .geemap-dark {\n",
       "                    --jp-widgets-color: white;\n",
       "                    --jp-widgets-label-color: white;\n",
       "                    --jp-ui-font-color1: white;\n",
       "                    --jp-layout-color2: #454545;\n",
       "                    background-color: #383838;\n",
       "                }\n",
       "\n",
       "                .geemap-dark .jupyter-button {\n",
       "                    --jp-layout-color3: #383838;\n",
       "                }\n",
       "\n",
       "                .geemap-colab {\n",
       "                    background-color: var(--colab-primary-surface-color, white);\n",
       "                }\n",
       "\n",
       "                .geemap-colab .jupyter-button {\n",
       "                    --jp-layout-color3: var(--colab-primary-surface-color, white);\n",
       "                }\n",
       "            </style>\n",
       "            "
      ],
      "text/plain": [
       "<IPython.core.display.HTML object>"
      ]
     },
     "metadata": {},
     "output_type": "display_data"
    },
    {
     "name": "stdout",
     "output_type": "stream",
     "text": [
      "✓ Resources cleaned up successfully\n"
     ]
    }
   ],
   "source": []
  }
 ],
 "metadata": {
  "kernelspec": {
   "display_name": "gmap",
   "language": "python",
   "name": "python3"
  },
  "language_info": {
   "codemirror_mode": {
    "name": "ipython",
    "version": 3
   },
   "file_extension": ".py",
   "mimetype": "text/x-python",
   "name": "python",
   "nbconvert_exporter": "python",
   "pygments_lexer": "ipython3",
   "version": "3.11.10"
  }
 },
 "nbformat": 4,
 "nbformat_minor": 2
}

{
 "cells": [
  {
   "cell_type": "code",
   "execution_count": 4,
   "metadata": {},
   "outputs": [
    {
     "data": {
      "text/html": [
       "\n",
       "            <style>\n",
       "                .geemap-dark {\n",
       "                    --jp-widgets-color: white;\n",
       "                    --jp-widgets-label-color: white;\n",
       "                    --jp-ui-font-color1: white;\n",
       "                    --jp-layout-color2: #454545;\n",
       "                    background-color: #383838;\n",
       "                }\n",
       "\n",
       "                .geemap-dark .jupyter-button {\n",
       "                    --jp-layout-color3: #383838;\n",
       "                }\n",
       "\n",
       "                .geemap-colab {\n",
       "                    background-color: var(--colab-primary-surface-color, white);\n",
       "                }\n",
       "\n",
       "                .geemap-colab .jupyter-button {\n",
       "                    --jp-layout-color3: var(--colab-primary-surface-color, white);\n",
       "                }\n",
       "            </style>\n",
       "            "
      ],
      "text/plain": [
       "<IPython.core.display.HTML object>"
      ]
     },
     "metadata": {},
     "output_type": "display_data"
    },
    {
     "name": "stdout",
     "output_type": "stream",
     "text": [
      "✓ Earth Engine initialized successfully\n",
      "\n",
      "Starting CMIP6 Analysis Tool...\n",
      "Follow the interactive widgets that will appear below.\n",
      "\n",
      "Workflow:\n",
      "1. Define your area of interest\n",
      "2. Select analysis time periods\n",
      "3. Choose climate indices\n",
      "4. Explore results with different models\n"
     ]
    },
    {
     "data": {
      "application/vnd.jupyter.widget-view+json": {
       "model_id": "7a27f82e75004f64999ab82d469c57d6",
       "version_major": 2,
       "version_minor": 0
      },
      "text/plain": [
       "HTML(value=\"\\n        <div style='background-color: #f0f0f0; padding: 20px; border-radius: 5px; margin-bottom:…"
      ]
     },
     "metadata": {},
     "output_type": "display_data"
    },
    {
     "data": {
      "application/vnd.jupyter.widget-view+json": {
       "model_id": "771473980792482eba6c16ab3b51cf18",
       "version_major": 2,
       "version_minor": 0
      },
      "text/plain": [
       "VBox(children=(HTML(value='\\n            <h3>Step 1: Define Area of Interest</h3>\\n            <p>Select a met…"
      ]
     },
     "metadata": {},
     "output_type": "display_data"
    }
   ],
   "source": [
    "# %% [markdown]\n",
    "# # CMIP6 Climate Analysis Tool\n",
    "# \n",
    "# Analysis tool for CMIP6 climate projections with the following workflow:\n",
    "# 1. Define area of interest\n",
    "# 2. Select analysis time periods\n",
    "# 3. Choose climate indices\n",
    "# 4. View results with different models and scenarios\n",
    "\n",
    "# %% Setup and Imports\n",
    "import ee\n",
    "from src.climate_analysis_tool import CMIP6AnalysisTool\n",
    "from IPython.display import display, HTML\n",
    "import warnings\n",
    "warnings.filterwarnings('ignore')\n",
    "\n",
    "# %% Initialize Earth Engine\n",
    "try:\n",
    "    ee.Initialize(project = 'ee-074bce151saurav')\n",
    "except:\n",
    "    ee.Authenticate()\n",
    "    ee.Initialize()\n",
    "print(\"✓ Earth Engine initialized successfully\")\n",
    "\n",
    "# %% Create and Start Analysis Tool\n",
    "try:\n",
    "    # Create tool instance\n",
    "    tool = CMIP6AnalysisTool()\n",
    "    \n",
    "    # Start the analysis workflow\n",
    "    print(\"\\nStarting CMIP6 Analysis Tool...\")\n",
    "    print(\"Follow the interactive widgets that will appear below.\")\n",
    "    print(\"\\nWorkflow:\")\n",
    "    print(\"1. Define your area of interest\")\n",
    "    print(\"2. Select analysis time periods\")\n",
    "    print(\"3. Choose climate indices\")\n",
    "    print(\"4. Explore results with different models\")\n",
    "    \n",
    "    tool.start()\n",
    "    \n",
    "except Exception as e:\n",
    "    print(f\"Error initializing tool: {str(e)}\")\n",
    "    print(\"\\nPlease check:\")\n",
    "    print(\"- Earth Engine authentication\")\n",
    "    print(\"- Required dependencies\")\n",
    "    print(\"- Internet connection\")"
   ]
  },
  {
   "cell_type": "code",
   "execution_count": 3,
   "metadata": {},
   "outputs": [
    {
     "data": {
      "text/html": [
       "\n",
       "            <style>\n",
       "                .geemap-dark {\n",
       "                    --jp-widgets-color: white;\n",
       "                    --jp-widgets-label-color: white;\n",
       "                    --jp-ui-font-color1: white;\n",
       "                    --jp-layout-color2: #454545;\n",
       "                    background-color: #383838;\n",
       "                }\n",
       "\n",
       "                .geemap-dark .jupyter-button {\n",
       "                    --jp-layout-color3: #383838;\n",
       "                }\n",
       "\n",
       "                .geemap-colab {\n",
       "                    background-color: var(--colab-primary-surface-color, white);\n",
       "                }\n",
       "\n",
       "                .geemap-colab .jupyter-button {\n",
       "                    --jp-layout-color3: var(--colab-primary-surface-color, white);\n",
       "                }\n",
       "            </style>\n",
       "            "
      ],
      "text/plain": [
       "<IPython.core.display.HTML object>"
      ]
     },
     "metadata": {},
     "output_type": "display_data"
    },
    {
     "name": "stdout",
     "output_type": "stream",
     "text": [
      "✓ Resources cleaned up successfully\n"
     ]
    }
   ],
   "source": [
    "# %% Cleanup Resources\n",
    "# Run this cell when you're done\n",
    "if 'tool' in locals():\n",
    "    try:\n",
    "        tool.cleanup()\n",
    "        print(\"✓ Resources cleaned up successfully\")\n",
    "    except Exception as e:\n",
    "        print(f\"Error during cleanup: {str(e)}\")"
   ]
  },
  {
   "cell_type": "code",
   "execution_count": null,
   "metadata": {},
   "outputs": [],
   "source": []
  }
 ],
 "metadata": {
  "kernelspec": {
   "display_name": "gmap",
   "language": "python",
   "name": "python3"
  },
  "language_info": {
   "codemirror_mode": {
    "name": "ipython",
    "version": 3
   },
   "file_extension": ".py",
   "mimetype": "text/x-python",
   "name": "python",
   "nbconvert_exporter": "python",
   "pygments_lexer": "ipython3",
   "version": "3.11.10"
  }
 },
 "nbformat": 4,
 "nbformat_minor": 2
}
